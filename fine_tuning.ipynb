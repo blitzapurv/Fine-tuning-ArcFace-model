{
  "cells": [
    {
      "cell_type": "code",
      "execution_count": 1,
      "metadata": {
        "id": "yVmJRDXMODVY"
      },
      "outputs": [],
      "source": [
        "import matplotlib.pyplot as plt\n",
        "import shutil, os, math, time\n",
        "from glob import glob\n",
        "from tqdm import tqdm\n",
        "import skimage.io as io\n",
        "from skimage.transform import rescale, resize\n",
        "import numpy as np\n",
        "\n",
        "import tensorflow as tf\n",
        "from tensorflow.keras import layers, metrics"
      ]
    },
    {
      "cell_type": "code",
      "source": [
        "try:\n",
        "  import deepface\n",
        "except:\n",
        "  !pip -q install deepface\n",
        "\n",
        "try:\n",
        "  import mediapipe\n",
        "except:\n",
        "  !pip install mediapipe"
      ],
      "metadata": {
        "colab": {
          "base_uri": "https://localhost:8080/"
        },
        "id": "jswLEa-Xsp6B",
        "outputId": "7265985f-92a8-4ad0-c0bf-a9d806712b33"
      },
      "execution_count": 2,
      "outputs": [
        {
          "output_type": "stream",
          "name": "stdout",
          "text": [
            "\u001b[2K     \u001b[90m━━━━━━━━━━━━━━━━━━━━━━━━━━━━━━━━━━━━━━━━\u001b[0m \u001b[32m48.9/48.9 KB\u001b[0m \u001b[31m5.8 MB/s\u001b[0m eta \u001b[36m0:00:00\u001b[0m\n",
            "\u001b[2K     \u001b[90m━━━━━━━━━━━━━━━━━━━━━━━━━━━━━━━━━━━━━━━━\u001b[0m \u001b[32m2.3/2.3 MB\u001b[0m \u001b[31m55.4 MB/s\u001b[0m eta \u001b[36m0:00:00\u001b[0m\n",
            "\u001b[2K     \u001b[90m━━━━━━━━━━━━━━━━━━━━━━━━━━━━━━━━━━━━━━━━\u001b[0m \u001b[32m88.3/88.3 KB\u001b[0m \u001b[31m12.2 MB/s\u001b[0m eta \u001b[36m0:00:00\u001b[0m\n",
            "\u001b[?25h  Preparing metadata (setup.py) ... \u001b[?25l\u001b[?25hdone\n",
            "  Building wheel for fire (setup.py) ... \u001b[?25l\u001b[?25hdone\n",
            "Looking in indexes: https://pypi.org/simple, https://us-python.pkg.dev/colab-wheels/public/simple/\n",
            "Collecting mediapipe\n",
            "  Downloading mediapipe-0.9.0.1-cp38-cp38-manylinux_2_17_x86_64.manylinux2014_x86_64.whl (33.0 MB)\n",
            "\u001b[2K     \u001b[90m━━━━━━━━━━━━━━━━━━━━━━━━━━━━━━━━━━━━━━━━\u001b[0m \u001b[32m33.0/33.0 MB\u001b[0m \u001b[31m48.9 MB/s\u001b[0m eta \u001b[36m0:00:00\u001b[0m\n",
            "\u001b[?25hRequirement already satisfied: matplotlib in /usr/local/lib/python3.8/dist-packages (from mediapipe) (3.2.2)\n",
            "Requirement already satisfied: opencv-contrib-python in /usr/local/lib/python3.8/dist-packages (from mediapipe) (4.6.0.66)\n",
            "Collecting flatbuffers>=2.0\n",
            "  Downloading flatbuffers-23.1.21-py2.py3-none-any.whl (26 kB)\n",
            "Requirement already satisfied: absl-py in /usr/local/lib/python3.8/dist-packages (from mediapipe) (1.3.0)\n",
            "Requirement already satisfied: protobuf<4,>=3.11 in /usr/local/lib/python3.8/dist-packages (from mediapipe) (3.19.6)\n",
            "Requirement already satisfied: attrs>=19.1.0 in /usr/local/lib/python3.8/dist-packages (from mediapipe) (22.2.0)\n",
            "Requirement already satisfied: numpy in /usr/local/lib/python3.8/dist-packages (from mediapipe) (1.21.6)\n",
            "Requirement already satisfied: python-dateutil>=2.1 in /usr/local/lib/python3.8/dist-packages (from matplotlib->mediapipe) (2.8.2)\n",
            "Requirement already satisfied: pyparsing!=2.0.4,!=2.1.2,!=2.1.6,>=2.0.1 in /usr/local/lib/python3.8/dist-packages (from matplotlib->mediapipe) (3.0.9)\n",
            "Requirement already satisfied: kiwisolver>=1.0.1 in /usr/local/lib/python3.8/dist-packages (from matplotlib->mediapipe) (1.4.4)\n",
            "Requirement already satisfied: cycler>=0.10 in /usr/local/lib/python3.8/dist-packages (from matplotlib->mediapipe) (0.11.0)\n",
            "Requirement already satisfied: six>=1.5 in /usr/local/lib/python3.8/dist-packages (from python-dateutil>=2.1->matplotlib->mediapipe) (1.15.0)\n",
            "Installing collected packages: flatbuffers, mediapipe\n",
            "  Attempting uninstall: flatbuffers\n",
            "    Found existing installation: flatbuffers 1.12\n",
            "    Uninstalling flatbuffers-1.12:\n",
            "      Successfully uninstalled flatbuffers-1.12\n",
            "\u001b[31mERROR: pip's dependency resolver does not currently take into account all the packages that are installed. This behaviour is the source of the following dependency conflicts.\n",
            "tensorflow 2.9.2 requires flatbuffers<2,>=1.12, but you have flatbuffers 23.1.21 which is incompatible.\u001b[0m\u001b[31m\n",
            "\u001b[0mSuccessfully installed flatbuffers-23.1.21 mediapipe-0.9.0.1\n"
          ]
        }
      ]
    },
    {
      "cell_type": "markdown",
      "source": [
        "## Data preperation"
      ],
      "metadata": {
        "id": "0-AOfSv4slUi"
      }
    },
    {
      "cell_type": "code",
      "execution_count": 3,
      "metadata": {
        "colab": {
          "base_uri": "https://localhost:8080/"
        },
        "id": "dvpDyRd9DuI8",
        "outputId": "3cd5f139-b412-4d4b-b2b7-3ed1d9a8b6de"
      },
      "outputs": [
        {
          "output_type": "stream",
          "name": "stdout",
          "text": [
            "Done\n"
          ]
        }
      ],
      "source": [
        "from zipfile import ZipFile\n",
        "file_name = '/content/temp_data.zip' #the file is your dataset exact name\n",
        "with ZipFile(file_name, 'r') as zip:\n",
        "  zip.extractall(\"Data\")\n",
        "  print('Done')"
      ]
    },
    {
      "cell_type": "code",
      "execution_count": 4,
      "metadata": {
        "colab": {
          "base_uri": "https://localhost:8080/"
        },
        "id": "EnK3VRyhvL8Q",
        "outputId": "012b26b0-9849-4933-8e2c-20c0edaaf153"
      },
      "outputs": [
        {
          "output_type": "execute_result",
          "data": {
            "text/plain": [
              "{'Tom Hiddleston': 181,\n",
              " 'Taylor Swift': 131,\n",
              " 'Alvaro Morte': 139,\n",
              " 'Zendaya': 138,\n",
              " 'Chris Evans': 166}"
            ]
          },
          "metadata": {},
          "execution_count": 4
        }
      ],
      "source": [
        "DEST_DIR = './Data'\n",
        "no_of_images={}\n",
        "for dir in os.listdir(\"./Data\"):\n",
        "  no_of_images[dir]=len(os.listdir(os.path.join(DEST_DIR,dir)))\n",
        "no_of_images"
      ]
    },
    {
      "cell_type": "code",
      "source": [
        "from utils import face_extract, pair_verify\n",
        "\n",
        "io.imshow(face_extract(\"3.jpg\"))"
      ],
      "metadata": {
        "id": "YlZhJ5PuszGf",
        "colab": {
          "base_uri": "https://localhost:8080/",
          "height": 0
        },
        "outputId": "d07e371c-3b97-41bb-bf77-5f8b3a7eee8e"
      },
      "execution_count": 5,
      "outputs": [
        {
          "output_type": "stream",
          "name": "stdout",
          "text": [
            "Directory  /root /.deepface created\n",
            "Directory  /root /.deepface/weights created\n",
            "shape_predictor_5_face_landmarks.dat.bz2 is going to be downloaded\n"
          ]
        },
        {
          "output_type": "stream",
          "name": "stderr",
          "text": [
            "Downloading...\n",
            "From: http://dlib.net/files/shape_predictor_5_face_landmarks.dat.bz2\n",
            "To: /root/.deepface/weights/shape_predictor_5_face_landmarks.dat.bz2\n",
            "100%|██████████| 5.71M/5.71M [00:02<00:00, 1.99MB/s]\n"
          ]
        },
        {
          "output_type": "execute_result",
          "data": {
            "text/plain": [
              "<matplotlib.image.AxesImage at 0x7f2618d5aee0>"
            ]
          },
          "metadata": {},
          "execution_count": 5
        },
        {
          "output_type": "display_data",
          "data": {
            "text/plain": [
              "<Figure size 432x288 with 1 Axes>"
            ],
            "image/png": "[encoded data removed]"
          },
          "metadata": {
            "needs_background": "light"
          }
        }
      ]
    },
    {
      "cell_type": "code",
      "execution_count": 6,
      "metadata": {
        "id": "fo1FLEyou1Gy",
        "colab": {
          "base_uri": "https://localhost:8080/"
        },
        "outputId": "615453ba-f45b-463d-94aa-0f8c152ce806"
      },
      "outputs": [
        {
          "output_type": "stream",
          "name": "stdout",
          "text": [
            "CPU times: user 14 µs, sys: 0 ns, total: 14 µs\n",
            "Wall time: 17.6 µs\n"
          ]
        }
      ],
      "source": [
        "%%time\n",
        "from matplotlib.image import imsave\n",
        "\n",
        "def dataFolder(p, split):\n",
        "    if not os.path.exists(\"./Model_Data\"):\n",
        "        os.mkdir(\"./Model_Data\")\n",
        "    if not os.path.exists(\"./Model_Data/\"+p):\n",
        "        os.mkdir(\"./Model_Data/\"+p)\n",
        "        for dir in os.listdir(DEST_DIR):\n",
        "            os.makedirs(\"./Model_Data/\"+p+\"/\"+dir)\n",
        "            for img in np.random.choice(a=os.listdir(os.path.join(DEST_DIR,dir)), size = (math.floor(split*no_of_images[dir])-5),replace=False):\n",
        "                O = os.path.join(DEST_DIR,dir,img)\n",
        "                if p in (\"Train\",\"Val\"):\n",
        "                    img_array = face_extract(O)\n",
        "                    imsave(\"./Model_Data/\"+p+\"/\"+dir+\"/\"+img, img_array)\n",
        "                else:\n",
        "                    D = os.path.join(\"./Model_Data/\"+p,dir)\n",
        "                    shutil.copy(O,D)\n",
        "    else:\n",
        "        print(f\"{p} Exists\")"
      ]
    },
    {
      "cell_type": "code",
      "execution_count": 7,
      "metadata": {
        "id": "62RlOI9cv2pH"
      },
      "outputs": [],
      "source": [
        "dataFolder(\"Train\",0.7)\n",
        "dataFolder(\"Val\",0.3)\n",
        "dataFolder(\"Test\",0.5)"
      ]
    },
    {
      "cell_type": "code",
      "source": [
        "#!rm -r Model_Data"
      ],
      "metadata": {
        "id": "Im9NpeRpttg4"
      },
      "execution_count": 8,
      "outputs": []
    },
    {
      "cell_type": "markdown",
      "metadata": {
        "id": "agdQ9SY-aS_1"
      },
      "source": [
        "## pretrained model"
      ]
    },
    {
      "cell_type": "code",
      "execution_count": 9,
      "metadata": {
        "id": "s-V5KT-VZkuz"
      },
      "outputs": [],
      "source": [
        "from ArcFace import loadModel"
      ]
    },
    {
      "cell_type": "code",
      "execution_count": 10,
      "metadata": {
        "id": "XsE8vCEkZkrq"
      },
      "outputs": [],
      "source": [
        "def get_new_model():\n",
        "  \"\"\" Returns the ArcFace model with last few lasyer trainable \"\"\"\n",
        "  model = loadModel()\n",
        "\n",
        "  # don't train these\n",
        "  for layer in model.layers[:-5]:\n",
        "    layer.trainable = False\n",
        "\n",
        "  # train the rest of the layers\n",
        "  for layer in model.layers[-5:]:\n",
        "    layer.trainable = True\n",
        "\n",
        "  return model"
      ]
    },
    {
      "cell_type": "markdown",
      "metadata": {
        "id": "u5WvVAnJxR2R"
      },
      "source": [
        "## Training"
      ]
    },
    {
      "cell_type": "code",
      "execution_count": 11,
      "metadata": {
        "id": "OHhT0hs8xWUe"
      },
      "outputs": [],
      "source": [
        "from keras.preprocessing.image import ImageDataGenerator\n",
        "\n",
        "def preprocessingTrain(path):\n",
        "    image_data = ImageDataGenerator(featurewise_center=False,\n",
        "                                    rotation_range=0.1,\n",
        "                                    width_shift_range=0.1,\n",
        "                                    zoom_range=0.1,\n",
        "                                    shear_range=0.1,\n",
        "                                    rescale=1./255,\n",
        "                                    horizontal_flip= False)\n",
        "\n",
        "    image = image_data.flow_from_directory(directory= path,\n",
        "                                           target_size=(112,112),\n",
        "                                           batch_size=16,\n",
        "                                           class_mode='categorical')\n",
        "    return image\n",
        "\n",
        "def preprocessingVal(path):\n",
        "    image_data = ImageDataGenerator(rescale=1./255)\n",
        "    image = image_data.flow_from_directory(directory= path,\n",
        "                                           target_size=(112,112),\n",
        "                                           batch_size=16,\n",
        "                                           class_mode='categorical')\n",
        "    return image"
      ]
    },
    {
      "cell_type": "code",
      "execution_count": 12,
      "metadata": {
        "colab": {
          "base_uri": "https://localhost:8080/"
        },
        "id": "DfWLIgTKxWRM",
        "outputId": "835f1a2c-864f-444c-ff36-6db3e8fd8f6f"
      },
      "outputs": [
        {
          "output_type": "stream",
          "name": "stdout",
          "text": [
            "Found 501 images belonging to 5 classes.\n"
          ]
        }
      ],
      "source": [
        "train_path=\"./Model_Data/Train\"\n",
        "train_data = preprocessingTrain(train_path)"
      ]
    },
    {
      "cell_type": "code",
      "execution_count": 13,
      "metadata": {
        "id": "9nef13Y9xWKv",
        "colab": {
          "base_uri": "https://localhost:8080/"
        },
        "outputId": "30edfc1e-d940-42ec-d012-2294632fc71b"
      },
      "outputs": [
        {
          "output_type": "stream",
          "name": "stdout",
          "text": [
            "Found 199 images belonging to 5 classes.\n"
          ]
        }
      ],
      "source": [
        "val_path=\"./Model_Data/Val\"\n",
        "val_data = preprocessingVal(val_path)"
      ]
    },
    {
      "cell_type": "code",
      "execution_count": 14,
      "metadata": {
        "id": "xgNTec79xtgH",
        "colab": {
          "base_uri": "https://localhost:8080/"
        },
        "outputId": "46c7e835-23ae-42cf-d77a-0ecf14478d25"
      },
      "outputs": [
        {
          "output_type": "stream",
          "name": "stdout",
          "text": [
            "Found 351 images belonging to 5 classes.\n"
          ]
        }
      ],
      "source": [
        "test_path=\"./Model_Data/Test\"\n",
        "test_data = preprocessingVal(test_path)"
      ]
    },
    {
      "cell_type": "code",
      "execution_count": 15,
      "metadata": {
        "colab": {
          "base_uri": "https://localhost:8080/"
        },
        "id": "tAzA6KW5xweI",
        "outputId": "22416903-f07a-4770-84ae-82116870200b"
      },
      "outputs": [
        {
          "output_type": "execute_result",
          "data": {
            "text/plain": [
              "{'Alvaro Morte': 0,\n",
              " 'Chris Evans': 1,\n",
              " 'Taylor Swift': 2,\n",
              " 'Tom Hiddleston': 3,\n",
              " 'Zendaya': 4}"
            ]
          },
          "metadata": {},
          "execution_count": 15
        }
      ],
      "source": [
        "train_data.class_indices"
      ]
    },
    {
      "cell_type": "code",
      "execution_count": 16,
      "metadata": {
        "colab": {
          "base_uri": "https://localhost:8080/"
        },
        "id": "nEF225LV8XOH",
        "outputId": "88f851dd-a154-4a72-dee5-b89dd934c3e9"
      },
      "outputs": [
        {
          "output_type": "stream",
          "name": "stdout",
          "text": [
            "arcface_weights.h5  will be downloaded to  ./arcface_weights.h5\n"
          ]
        },
        {
          "output_type": "stream",
          "name": "stderr",
          "text": [
            "Downloading...\n",
            "From: https://github.com/serengil/deepface_models/releases/download/v1.0/arcface_weights.h5\n",
            "To: /content/arcface_weights.h5\n",
            "100%|██████████| 137M/137M [00:09<00:00, 14.0MB/s]\n"
          ]
        },
        {
          "output_type": "stream",
          "name": "stdout",
          "text": [
            "Building training model with ARC loss...\n"
          ]
        }
      ],
      "source": [
        "import os\n",
        "from argparse import ArgumentParser\n",
        "from tensorflow import keras\n",
        "from losses import ArcLoss\n",
        "from network import ArcLayer, L2Normalization\n",
        "\n",
        "input_shape = (112, 112, 3)\n",
        "num_ids = len(train_data.class_indices)\n",
        "#num_examples = 586\n",
        "regularizer = keras.regularizers.L2(5e-4)\n",
        "\n",
        "base_model = get_new_model()\n",
        "print(\"Building training model with ARC loss...\")\n",
        "\n",
        "x = L2Normalization()(base_model.output)\n",
        "outputs = ArcLayer(num_ids, regularizer)(x)\n",
        "\n",
        "final_model = keras.models.Model( base_model.input , outputs )\n",
        "\n",
        "'''model = keras.Sequential([keras.Input(input_shape),\n",
        "                          base_model,\n",
        "                          L2Normalization(),\n",
        "                          ArcLayer(num_ids, regularizer)],\n",
        "                          name=\"training_model\")'''\n",
        "loss_fun = ArcLoss()"
      ]
    },
    {
      "cell_type": "code",
      "execution_count": 17,
      "metadata": {
        "id": "xCUtLbMp8XIX",
        "colab": {
          "base_uri": "https://localhost:8080/"
        },
        "outputId": "3cb90632-ed5f-4d30-8797-1a0ed9b28a12"
      },
      "outputs": [
        {
          "output_type": "stream",
          "name": "stdout",
          "text": [
            "Model: \"model\"\n",
            "__________________________________________________________________________________________________\n",
            " Layer (type)                   Output Shape         Param #     Connected to                     \n",
            "==================================================================================================\n",
            " input_1 (InputLayer)           [(None, 112, 112, 3  0           []                               \n",
            "                                )]                                                                \n",
            "                                                                                                  \n",
            " conv1_pad (ZeroPadding2D)      (None, 114, 114, 3)  0           ['input_1[0][0]']                \n",
            "                                                                                                  \n",
            " conv1_conv (Conv2D)            (None, 112, 112, 64  1728        ['conv1_pad[0][0]']              \n",
            "                                )                                                                 \n",
            "                                                                                                  \n",
            " conv1_bn (BatchNormalization)  (None, 112, 112, 64  256         ['conv1_conv[0][0]']             \n",
            "                                )                                                                 \n",
            "                                                                                                  \n",
            " conv1_prelu (PReLU)            (None, 112, 112, 64  64          ['conv1_bn[0][0]']               \n",
            "                                )                                                                 \n",
            "                                                                                                  \n",
            " conv2_block1_1_bn (BatchNormal  (None, 112, 112, 64  256        ['conv1_prelu[0][0]']            \n",
            " ization)                       )                                                                 \n",
            "                                                                                                  \n",
            " conv2_block1_1_pad (ZeroPaddin  (None, 114, 114, 64  0          ['conv2_block1_1_bn[0][0]']      \n",
            " g2D)                           )                                                                 \n",
            "                                                                                                  \n",
            " conv2_block1_1_conv (Conv2D)   (None, 112, 112, 64  36864       ['conv2_block1_1_pad[0][0]']     \n",
            "                                )                                                                 \n",
            "                                                                                                  \n",
            " conv2_block1_2_bn (BatchNormal  (None, 112, 112, 64  256        ['conv2_block1_1_conv[0][0]']    \n",
            " ization)                       )                                                                 \n",
            "                                                                                                  \n",
            " conv2_block1_1_prelu (PReLU)   (None, 112, 112, 64  64          ['conv2_block1_2_bn[0][0]']      \n",
            "                                )                                                                 \n",
            "                                                                                                  \n",
            " conv2_block1_2_pad (ZeroPaddin  (None, 114, 114, 64  0          ['conv2_block1_1_prelu[0][0]']   \n",
            " g2D)                           )                                                                 \n",
            "                                                                                                  \n",
            " conv2_block1_0_conv (Conv2D)   (None, 56, 56, 64)   4096        ['conv1_prelu[0][0]']            \n",
            "                                                                                                  \n",
            " conv2_block1_2_conv (Conv2D)   (None, 56, 56, 64)   36864       ['conv2_block1_2_pad[0][0]']     \n",
            "                                                                                                  \n",
            " conv2_block1_0_bn (BatchNormal  (None, 56, 56, 64)  256         ['conv2_block1_0_conv[0][0]']    \n",
            " ization)                                                                                         \n",
            "                                                                                                  \n",
            " conv2_block1_3_bn (BatchNormal  (None, 56, 56, 64)  256         ['conv2_block1_2_conv[0][0]']    \n",
            " ization)                                                                                         \n",
            "                                                                                                  \n",
            " conv2_block1_add (Add)         (None, 56, 56, 64)   0           ['conv2_block1_0_bn[0][0]',      \n",
            "                                                                  'conv2_block1_3_bn[0][0]']      \n",
            "                                                                                                  \n",
            " conv2_block2_1_bn (BatchNormal  (None, 56, 56, 64)  256         ['conv2_block1_add[0][0]']       \n",
            " ization)                                                                                         \n",
            "                                                                                                  \n",
            " conv2_block2_1_pad (ZeroPaddin  (None, 58, 58, 64)  0           ['conv2_block2_1_bn[0][0]']      \n",
            " g2D)                                                                                             \n",
            "                                                                                                  \n",
            " conv2_block2_1_conv (Conv2D)   (None, 56, 56, 64)   36864       ['conv2_block2_1_pad[0][0]']     \n",
            "                                                                                                  \n",
            " conv2_block2_2_bn (BatchNormal  (None, 56, 56, 64)  256         ['conv2_block2_1_conv[0][0]']    \n",
            " ization)                                                                                         \n",
            "                                                                                                  \n",
            " conv2_block2_1_prelu (PReLU)   (None, 56, 56, 64)   64          ['conv2_block2_2_bn[0][0]']      \n",
            "                                                                                                  \n",
            " conv2_block2_2_pad (ZeroPaddin  (None, 58, 58, 64)  0           ['conv2_block2_1_prelu[0][0]']   \n",
            " g2D)                                                                                             \n",
            "                                                                                                  \n",
            " conv2_block2_2_conv (Conv2D)   (None, 56, 56, 64)   36864       ['conv2_block2_2_pad[0][0]']     \n",
            "                                                                                                  \n",
            " conv2_block2_3_bn (BatchNormal  (None, 56, 56, 64)  256         ['conv2_block2_2_conv[0][0]']    \n",
            " ization)                                                                                         \n",
            "                                                                                                  \n",
            " conv2_block2_add (Add)         (None, 56, 56, 64)   0           ['conv2_block1_add[0][0]',       \n",
            "                                                                  'conv2_block2_3_bn[0][0]']      \n",
            "                                                                                                  \n",
            " conv2_block3_1_bn (BatchNormal  (None, 56, 56, 64)  256         ['conv2_block2_add[0][0]']       \n",
            " ization)                                                                                         \n",
            "                                                                                                  \n",
            " conv2_block3_1_pad (ZeroPaddin  (None, 58, 58, 64)  0           ['conv2_block3_1_bn[0][0]']      \n",
            " g2D)                                                                                             \n",
            "                                                                                                  \n",
            " conv2_block3_1_conv (Conv2D)   (None, 56, 56, 64)   36864       ['conv2_block3_1_pad[0][0]']     \n",
            "                                                                                                  \n",
            " conv2_block3_2_bn (BatchNormal  (None, 56, 56, 64)  256         ['conv2_block3_1_conv[0][0]']    \n",
            " ization)                                                                                         \n",
            "                                                                                                  \n",
            " conv2_block3_1_prelu (PReLU)   (None, 56, 56, 64)   64          ['conv2_block3_2_bn[0][0]']      \n",
            "                                                                                                  \n",
            " conv2_block3_2_pad (ZeroPaddin  (None, 58, 58, 64)  0           ['conv2_block3_1_prelu[0][0]']   \n",
            " g2D)                                                                                             \n",
            "                                                                                                  \n",
            " conv2_block3_2_conv (Conv2D)   (None, 56, 56, 64)   36864       ['conv2_block3_2_pad[0][0]']     \n",
            "                                                                                                  \n",
            " conv2_block3_3_bn (BatchNormal  (None, 56, 56, 64)  256         ['conv2_block3_2_conv[0][0]']    \n",
            " ization)                                                                                         \n",
            "                                                                                                  \n",
            " conv2_block3_add (Add)         (None, 56, 56, 64)   0           ['conv2_block2_add[0][0]',       \n",
            "                                                                  'conv2_block3_3_bn[0][0]']      \n",
            "                                                                                                  \n",
            " conv3_block1_1_bn (BatchNormal  (None, 56, 56, 64)  256         ['conv2_block3_add[0][0]']       \n",
            " ization)                                                                                         \n",
            "                                                                                                  \n",
            " conv3_block1_1_pad (ZeroPaddin  (None, 58, 58, 64)  0           ['conv3_block1_1_bn[0][0]']      \n",
            " g2D)                                                                                             \n",
            "                                                                                                  \n",
            " conv3_block1_1_conv (Conv2D)   (None, 56, 56, 128)  73728       ['conv3_block1_1_pad[0][0]']     \n",
            "                                                                                                  \n",
            " conv3_block1_2_bn (BatchNormal  (None, 56, 56, 128)  512        ['conv3_block1_1_conv[0][0]']    \n",
            " ization)                                                                                         \n",
            "                                                                                                  \n",
            " conv3_block1_1_prelu (PReLU)   (None, 56, 56, 128)  128         ['conv3_block1_2_bn[0][0]']      \n",
            "                                                                                                  \n",
            " conv3_block1_2_pad (ZeroPaddin  (None, 58, 58, 128)  0          ['conv3_block1_1_prelu[0][0]']   \n",
            " g2D)                                                                                             \n",
            "                                                                                                  \n",
            " conv3_block1_0_conv (Conv2D)   (None, 28, 28, 128)  8192        ['conv2_block3_add[0][0]']       \n",
            "                                                                                                  \n",
            " conv3_block1_2_conv (Conv2D)   (None, 28, 28, 128)  147456      ['conv3_block1_2_pad[0][0]']     \n",
            "                                                                                                  \n",
            " conv3_block1_0_bn (BatchNormal  (None, 28, 28, 128)  512        ['conv3_block1_0_conv[0][0]']    \n",
            " ization)                                                                                         \n",
            "                                                                                                  \n",
            " conv3_block1_3_bn (BatchNormal  (None, 28, 28, 128)  512        ['conv3_block1_2_conv[0][0]']    \n",
            " ization)                                                                                         \n",
            "                                                                                                  \n",
            " conv3_block1_add (Add)         (None, 28, 28, 128)  0           ['conv3_block1_0_bn[0][0]',      \n",
            "                                                                  'conv3_block1_3_bn[0][0]']      \n",
            "                                                                                                  \n",
            " conv3_block2_1_bn (BatchNormal  (None, 28, 28, 128)  512        ['conv3_block1_add[0][0]']       \n",
            " ization)                                                                                         \n",
            "                                                                                                  \n",
            " conv3_block2_1_pad (ZeroPaddin  (None, 30, 30, 128)  0          ['conv3_block2_1_bn[0][0]']      \n",
            " g2D)                                                                                             \n",
            "                                                                                                  \n",
            " conv3_block2_1_conv (Conv2D)   (None, 28, 28, 128)  147456      ['conv3_block2_1_pad[0][0]']     \n",
            "                                                                                                  \n",
            " conv3_block2_2_bn (BatchNormal  (None, 28, 28, 128)  512        ['conv3_block2_1_conv[0][0]']    \n",
            " ization)                                                                                         \n",
            "                                                                                                  \n",
            " conv3_block2_1_prelu (PReLU)   (None, 28, 28, 128)  128         ['conv3_block2_2_bn[0][0]']      \n",
            "                                                                                                  \n",
            " conv3_block2_2_pad (ZeroPaddin  (None, 30, 30, 128)  0          ['conv3_block2_1_prelu[0][0]']   \n",
            " g2D)                                                                                             \n",
            "                                                                                                  \n",
            " conv3_block2_2_conv (Conv2D)   (None, 28, 28, 128)  147456      ['conv3_block2_2_pad[0][0]']     \n",
            "                                                                                                  \n",
            " conv3_block2_3_bn (BatchNormal  (None, 28, 28, 128)  512        ['conv3_block2_2_conv[0][0]']    \n",
            " ization)                                                                                         \n",
            "                                                                                                  \n",
            " conv3_block2_add (Add)         (None, 28, 28, 128)  0           ['conv3_block1_add[0][0]',       \n",
            "                                                                  'conv3_block2_3_bn[0][0]']      \n",
            "                                                                                                  \n",
            " conv3_block3_1_bn (BatchNormal  (None, 28, 28, 128)  512        ['conv3_block2_add[0][0]']       \n",
            " ization)                                                                                         \n",
            "                                                                                                  \n",
            " conv3_block3_1_pad (ZeroPaddin  (None, 30, 30, 128)  0          ['conv3_block3_1_bn[0][0]']      \n",
            " g2D)                                                                                             \n",
            "                                                                                                  \n",
            " conv3_block3_1_conv (Conv2D)   (None, 28, 28, 128)  147456      ['conv3_block3_1_pad[0][0]']     \n",
            "                                                                                                  \n",
            " conv3_block3_2_bn (BatchNormal  (None, 28, 28, 128)  512        ['conv3_block3_1_conv[0][0]']    \n",
            " ization)                                                                                         \n",
            "                                                                                                  \n",
            " conv3_block3_1_prelu (PReLU)   (None, 28, 28, 128)  128         ['conv3_block3_2_bn[0][0]']      \n",
            "                                                                                                  \n",
            " conv3_block3_2_pad (ZeroPaddin  (None, 30, 30, 128)  0          ['conv3_block3_1_prelu[0][0]']   \n",
            " g2D)                                                                                             \n",
            "                                                                                                  \n",
            " conv3_block3_2_conv (Conv2D)   (None, 28, 28, 128)  147456      ['conv3_block3_2_pad[0][0]']     \n",
            "                                                                                                  \n",
            " conv3_block3_3_bn (BatchNormal  (None, 28, 28, 128)  512        ['conv3_block3_2_conv[0][0]']    \n",
            " ization)                                                                                         \n",
            "                                                                                                  \n",
            " conv3_block3_add (Add)         (None, 28, 28, 128)  0           ['conv3_block2_add[0][0]',       \n",
            "                                                                  'conv3_block3_3_bn[0][0]']      \n",
            "                                                                                                  \n",
            " conv3_block4_1_bn (BatchNormal  (None, 28, 28, 128)  512        ['conv3_block3_add[0][0]']       \n",
            " ization)                                                                                         \n",
            "                                                                                                  \n",
            " conv3_block4_1_pad (ZeroPaddin  (None, 30, 30, 128)  0          ['conv3_block4_1_bn[0][0]']      \n",
            " g2D)                                                                                             \n",
            "                                                                                                  \n",
            " conv3_block4_1_conv (Conv2D)   (None, 28, 28, 128)  147456      ['conv3_block4_1_pad[0][0]']     \n",
            "                                                                                                  \n",
            " conv3_block4_2_bn (BatchNormal  (None, 28, 28, 128)  512        ['conv3_block4_1_conv[0][0]']    \n",
            " ization)                                                                                         \n",
            "                                                                                                  \n",
            " conv3_block4_1_prelu (PReLU)   (None, 28, 28, 128)  128         ['conv3_block4_2_bn[0][0]']      \n",
            "                                                                                                  \n",
            " conv3_block4_2_pad (ZeroPaddin  (None, 30, 30, 128)  0          ['conv3_block4_1_prelu[0][0]']   \n",
            " g2D)                                                                                             \n",
            "                                                                                                  \n",
            " conv3_block4_2_conv (Conv2D)   (None, 28, 28, 128)  147456      ['conv3_block4_2_pad[0][0]']     \n",
            "                                                                                                  \n",
            " conv3_block4_3_bn (BatchNormal  (None, 28, 28, 128)  512        ['conv3_block4_2_conv[0][0]']    \n",
            " ization)                                                                                         \n",
            "                                                                                                  \n",
            " conv3_block4_add (Add)         (None, 28, 28, 128)  0           ['conv3_block3_add[0][0]',       \n",
            "                                                                  'conv3_block4_3_bn[0][0]']      \n",
            "                                                                                                  \n",
            " conv4_block1_1_bn (BatchNormal  (None, 28, 28, 128)  512        ['conv3_block4_add[0][0]']       \n",
            " ization)                                                                                         \n",
            "                                                                                                  \n",
            " conv4_block1_1_pad (ZeroPaddin  (None, 30, 30, 128)  0          ['conv4_block1_1_bn[0][0]']      \n",
            " g2D)                                                                                             \n",
            "                                                                                                  \n",
            " conv4_block1_1_conv (Conv2D)   (None, 28, 28, 256)  294912      ['conv4_block1_1_pad[0][0]']     \n",
            "                                                                                                  \n",
            " conv4_block1_2_bn (BatchNormal  (None, 28, 28, 256)  1024       ['conv4_block1_1_conv[0][0]']    \n",
            " ization)                                                                                         \n",
            "                                                                                                  \n",
            " conv4_block1_1_prelu (PReLU)   (None, 28, 28, 256)  256         ['conv4_block1_2_bn[0][0]']      \n",
            "                                                                                                  \n",
            " conv4_block1_2_pad (ZeroPaddin  (None, 30, 30, 256)  0          ['conv4_block1_1_prelu[0][0]']   \n",
            " g2D)                                                                                             \n",
            "                                                                                                  \n",
            " conv4_block1_0_conv (Conv2D)   (None, 14, 14, 256)  32768       ['conv3_block4_add[0][0]']       \n",
            "                                                                                                  \n",
            " conv4_block1_2_conv (Conv2D)   (None, 14, 14, 256)  589824      ['conv4_block1_2_pad[0][0]']     \n",
            "                                                                                                  \n",
            " conv4_block1_0_bn (BatchNormal  (None, 14, 14, 256)  1024       ['conv4_block1_0_conv[0][0]']    \n",
            " ization)                                                                                         \n",
            "                                                                                                  \n",
            " conv4_block1_3_bn (BatchNormal  (None, 14, 14, 256)  1024       ['conv4_block1_2_conv[0][0]']    \n",
            " ization)                                                                                         \n",
            "                                                                                                  \n",
            " conv4_block1_add (Add)         (None, 14, 14, 256)  0           ['conv4_block1_0_bn[0][0]',      \n",
            "                                                                  'conv4_block1_3_bn[0][0]']      \n",
            "                                                                                                  \n",
            " conv4_block2_1_bn (BatchNormal  (None, 14, 14, 256)  1024       ['conv4_block1_add[0][0]']       \n",
            " ization)                                                                                         \n",
            "                                                                                                  \n",
            " conv4_block2_1_pad (ZeroPaddin  (None, 16, 16, 256)  0          ['conv4_block2_1_bn[0][0]']      \n",
            " g2D)                                                                                             \n",
            "                                                                                                  \n",
            " conv4_block2_1_conv (Conv2D)   (None, 14, 14, 256)  589824      ['conv4_block2_1_pad[0][0]']     \n",
            "                                                                                                  \n",
            " conv4_block2_2_bn (BatchNormal  (None, 14, 14, 256)  1024       ['conv4_block2_1_conv[0][0]']    \n",
            " ization)                                                                                         \n",
            "                                                                                                  \n",
            " conv4_block2_1_prelu (PReLU)   (None, 14, 14, 256)  256         ['conv4_block2_2_bn[0][0]']      \n",
            "                                                                                                  \n",
            " conv4_block2_2_pad (ZeroPaddin  (None, 16, 16, 256)  0          ['conv4_block2_1_prelu[0][0]']   \n",
            " g2D)                                                                                             \n",
            "                                                                                                  \n",
            " conv4_block2_2_conv (Conv2D)   (None, 14, 14, 256)  589824      ['conv4_block2_2_pad[0][0]']     \n",
            "                                                                                                  \n",
            " conv4_block2_3_bn (BatchNormal  (None, 14, 14, 256)  1024       ['conv4_block2_2_conv[0][0]']    \n",
            " ization)                                                                                         \n",
            "                                                                                                  \n",
            " conv4_block2_add (Add)         (None, 14, 14, 256)  0           ['conv4_block1_add[0][0]',       \n",
            "                                                                  'conv4_block2_3_bn[0][0]']      \n",
            "                                                                                                  \n",
            " conv4_block3_1_bn (BatchNormal  (None, 14, 14, 256)  1024       ['conv4_block2_add[0][0]']       \n",
            " ization)                                                                                         \n",
            "                                                                                                  \n",
            " conv4_block3_1_pad (ZeroPaddin  (None, 16, 16, 256)  0          ['conv4_block3_1_bn[0][0]']      \n",
            " g2D)                                                                                             \n",
            "                                                                                                  \n",
            " conv4_block3_1_conv (Conv2D)   (None, 14, 14, 256)  589824      ['conv4_block3_1_pad[0][0]']     \n",
            "                                                                                                  \n",
            " conv4_block3_2_bn (BatchNormal  (None, 14, 14, 256)  1024       ['conv4_block3_1_conv[0][0]']    \n",
            " ization)                                                                                         \n",
            "                                                                                                  \n",
            " conv4_block3_1_prelu (PReLU)   (None, 14, 14, 256)  256         ['conv4_block3_2_bn[0][0]']      \n",
            "                                                                                                  \n",
            " conv4_block3_2_pad (ZeroPaddin  (None, 16, 16, 256)  0          ['conv4_block3_1_prelu[0][0]']   \n",
            " g2D)                                                                                             \n",
            "                                                                                                  \n",
            " conv4_block3_2_conv (Conv2D)   (None, 14, 14, 256)  589824      ['conv4_block3_2_pad[0][0]']     \n",
            "                                                                                                  \n",
            " conv4_block3_3_bn (BatchNormal  (None, 14, 14, 256)  1024       ['conv4_block3_2_conv[0][0]']    \n",
            " ization)                                                                                         \n",
            "                                                                                                  \n",
            " conv4_block3_add (Add)         (None, 14, 14, 256)  0           ['conv4_block2_add[0][0]',       \n",
            "                                                                  'conv4_block3_3_bn[0][0]']      \n",
            "                                                                                                  \n",
            " conv4_block4_1_bn (BatchNormal  (None, 14, 14, 256)  1024       ['conv4_block3_add[0][0]']       \n",
            " ization)                                                                                         \n",
            "                                                                                                  \n",
            " conv4_block4_1_pad (ZeroPaddin  (None, 16, 16, 256)  0          ['conv4_block4_1_bn[0][0]']      \n",
            " g2D)                                                                                             \n",
            "                                                                                                  \n",
            " conv4_block4_1_conv (Conv2D)   (None, 14, 14, 256)  589824      ['conv4_block4_1_pad[0][0]']     \n",
            "                                                                                                  \n",
            " conv4_block4_2_bn (BatchNormal  (None, 14, 14, 256)  1024       ['conv4_block4_1_conv[0][0]']    \n",
            " ization)                                                                                         \n",
            "                                                                                                  \n",
            " conv4_block4_1_prelu (PReLU)   (None, 14, 14, 256)  256         ['conv4_block4_2_bn[0][0]']      \n",
            "                                                                                                  \n",
            " conv4_block4_2_pad (ZeroPaddin  (None, 16, 16, 256)  0          ['conv4_block4_1_prelu[0][0]']   \n",
            " g2D)                                                                                             \n",
            "                                                                                                  \n",
            " conv4_block4_2_conv (Conv2D)   (None, 14, 14, 256)  589824      ['conv4_block4_2_pad[0][0]']     \n",
            "                                                                                                  \n",
            " conv4_block4_3_bn (BatchNormal  (None, 14, 14, 256)  1024       ['conv4_block4_2_conv[0][0]']    \n",
            " ization)                                                                                         \n",
            "                                                                                                  \n",
            " conv4_block4_add (Add)         (None, 14, 14, 256)  0           ['conv4_block3_add[0][0]',       \n",
            "                                                                  'conv4_block4_3_bn[0][0]']      \n",
            "                                                                                                  \n",
            " conv4_block5_1_bn (BatchNormal  (None, 14, 14, 256)  1024       ['conv4_block4_add[0][0]']       \n",
            " ization)                                                                                         \n",
            "                                                                                                  \n",
            " conv4_block5_1_pad (ZeroPaddin  (None, 16, 16, 256)  0          ['conv4_block5_1_bn[0][0]']      \n",
            " g2D)                                                                                             \n",
            "                                                                                                  \n",
            " conv4_block5_1_conv (Conv2D)   (None, 14, 14, 256)  589824      ['conv4_block5_1_pad[0][0]']     \n",
            "                                                                                                  \n",
            " conv4_block5_2_bn (BatchNormal  (None, 14, 14, 256)  1024       ['conv4_block5_1_conv[0][0]']    \n",
            " ization)                                                                                         \n",
            "                                                                                                  \n",
            " conv4_block5_1_prelu (PReLU)   (None, 14, 14, 256)  256         ['conv4_block5_2_bn[0][0]']      \n",
            "                                                                                                  \n",
            " conv4_block5_2_pad (ZeroPaddin  (None, 16, 16, 256)  0          ['conv4_block5_1_prelu[0][0]']   \n",
            " g2D)                                                                                             \n",
            "                                                                                                  \n",
            " conv4_block5_2_conv (Conv2D)   (None, 14, 14, 256)  589824      ['conv4_block5_2_pad[0][0]']     \n",
            "                                                                                                  \n",
            " conv4_block5_3_bn (BatchNormal  (None, 14, 14, 256)  1024       ['conv4_block5_2_conv[0][0]']    \n",
            " ization)                                                                                         \n",
            "                                                                                                  \n",
            " conv4_block5_add (Add)         (None, 14, 14, 256)  0           ['conv4_block4_add[0][0]',       \n",
            "                                                                  'conv4_block5_3_bn[0][0]']      \n",
            "                                                                                                  \n",
            " conv4_block6_1_bn (BatchNormal  (None, 14, 14, 256)  1024       ['conv4_block5_add[0][0]']       \n",
            " ization)                                                                                         \n",
            "                                                                                                  \n",
            " conv4_block6_1_pad (ZeroPaddin  (None, 16, 16, 256)  0          ['conv4_block6_1_bn[0][0]']      \n",
            " g2D)                                                                                             \n",
            "                                                                                                  \n",
            " conv4_block6_1_conv (Conv2D)   (None, 14, 14, 256)  589824      ['conv4_block6_1_pad[0][0]']     \n",
            "                                                                                                  \n",
            " conv4_block6_2_bn (BatchNormal  (None, 14, 14, 256)  1024       ['conv4_block6_1_conv[0][0]']    \n",
            " ization)                                                                                         \n",
            "                                                                                                  \n",
            " conv4_block6_1_prelu (PReLU)   (None, 14, 14, 256)  256         ['conv4_block6_2_bn[0][0]']      \n",
            "                                                                                                  \n",
            " conv4_block6_2_pad (ZeroPaddin  (None, 16, 16, 256)  0          ['conv4_block6_1_prelu[0][0]']   \n",
            " g2D)                                                                                             \n",
            "                                                                                                  \n",
            " conv4_block6_2_conv (Conv2D)   (None, 14, 14, 256)  589824      ['conv4_block6_2_pad[0][0]']     \n",
            "                                                                                                  \n",
            " conv4_block6_3_bn (BatchNormal  (None, 14, 14, 256)  1024       ['conv4_block6_2_conv[0][0]']    \n",
            " ization)                                                                                         \n",
            "                                                                                                  \n",
            " conv4_block6_add (Add)         (None, 14, 14, 256)  0           ['conv4_block5_add[0][0]',       \n",
            "                                                                  'conv4_block6_3_bn[0][0]']      \n",
            "                                                                                                  \n",
            " conv5_block1_1_bn (BatchNormal  (None, 14, 14, 256)  1024       ['conv4_block6_add[0][0]']       \n",
            " ization)                                                                                         \n",
            "                                                                                                  \n",
            " conv5_block1_1_pad (ZeroPaddin  (None, 16, 16, 256)  0          ['conv5_block1_1_bn[0][0]']      \n",
            " g2D)                                                                                             \n",
            "                                                                                                  \n",
            " conv5_block1_1_conv (Conv2D)   (None, 14, 14, 512)  1179648     ['conv5_block1_1_pad[0][0]']     \n",
            "                                                                                                  \n",
            " conv5_block1_2_bn (BatchNormal  (None, 14, 14, 512)  2048       ['conv5_block1_1_conv[0][0]']    \n",
            " ization)                                                                                         \n",
            "                                                                                                  \n",
            " conv5_block1_1_prelu (PReLU)   (None, 14, 14, 512)  512         ['conv5_block1_2_bn[0][0]']      \n",
            "                                                                                                  \n",
            " conv5_block1_2_pad (ZeroPaddin  (None, 16, 16, 512)  0          ['conv5_block1_1_prelu[0][0]']   \n",
            " g2D)                                                                                             \n",
            "                                                                                                  \n",
            " conv5_block1_0_conv (Conv2D)   (None, 7, 7, 512)    131072      ['conv4_block6_add[0][0]']       \n",
            "                                                                                                  \n",
            " conv5_block1_2_conv (Conv2D)   (None, 7, 7, 512)    2359296     ['conv5_block1_2_pad[0][0]']     \n",
            "                                                                                                  \n",
            " conv5_block1_0_bn (BatchNormal  (None, 7, 7, 512)   2048        ['conv5_block1_0_conv[0][0]']    \n",
            " ization)                                                                                         \n",
            "                                                                                                  \n",
            " conv5_block1_3_bn (BatchNormal  (None, 7, 7, 512)   2048        ['conv5_block1_2_conv[0][0]']    \n",
            " ization)                                                                                         \n",
            "                                                                                                  \n",
            " conv5_block1_add (Add)         (None, 7, 7, 512)    0           ['conv5_block1_0_bn[0][0]',      \n",
            "                                                                  'conv5_block1_3_bn[0][0]']      \n",
            "                                                                                                  \n",
            " conv5_block2_1_bn (BatchNormal  (None, 7, 7, 512)   2048        ['conv5_block1_add[0][0]']       \n",
            " ization)                                                                                         \n",
            "                                                                                                  \n",
            " conv5_block2_1_pad (ZeroPaddin  (None, 9, 9, 512)   0           ['conv5_block2_1_bn[0][0]']      \n",
            " g2D)                                                                                             \n",
            "                                                                                                  \n",
            " conv5_block2_1_conv (Conv2D)   (None, 7, 7, 512)    2359296     ['conv5_block2_1_pad[0][0]']     \n",
            "                                                                                                  \n",
            " conv5_block2_2_bn (BatchNormal  (None, 7, 7, 512)   2048        ['conv5_block2_1_conv[0][0]']    \n",
            " ization)                                                                                         \n",
            "                                                                                                  \n",
            " conv5_block2_1_prelu (PReLU)   (None, 7, 7, 512)    512         ['conv5_block2_2_bn[0][0]']      \n",
            "                                                                                                  \n",
            " conv5_block2_2_pad (ZeroPaddin  (None, 9, 9, 512)   0           ['conv5_block2_1_prelu[0][0]']   \n",
            " g2D)                                                                                             \n",
            "                                                                                                  \n",
            " conv5_block2_2_conv (Conv2D)   (None, 7, 7, 512)    2359296     ['conv5_block2_2_pad[0][0]']     \n",
            "                                                                                                  \n",
            " conv5_block2_3_bn (BatchNormal  (None, 7, 7, 512)   2048        ['conv5_block2_2_conv[0][0]']    \n",
            " ization)                                                                                         \n",
            "                                                                                                  \n",
            " conv5_block2_add (Add)         (None, 7, 7, 512)    0           ['conv5_block1_add[0][0]',       \n",
            "                                                                  'conv5_block2_3_bn[0][0]']      \n",
            "                                                                                                  \n",
            " conv5_block3_1_bn (BatchNormal  (None, 7, 7, 512)   2048        ['conv5_block2_add[0][0]']       \n",
            " ization)                                                                                         \n",
            "                                                                                                  \n",
            " conv5_block3_1_pad (ZeroPaddin  (None, 9, 9, 512)   0           ['conv5_block3_1_bn[0][0]']      \n",
            " g2D)                                                                                             \n",
            "                                                                                                  \n",
            " conv5_block3_1_conv (Conv2D)   (None, 7, 7, 512)    2359296     ['conv5_block3_1_pad[0][0]']     \n",
            "                                                                                                  \n",
            " conv5_block3_2_bn (BatchNormal  (None, 7, 7, 512)   2048        ['conv5_block3_1_conv[0][0]']    \n",
            " ization)                                                                                         \n",
            "                                                                                                  \n",
            " conv5_block3_1_prelu (PReLU)   (None, 7, 7, 512)    512         ['conv5_block3_2_bn[0][0]']      \n",
            "                                                                                                  \n",
            " conv5_block3_2_pad (ZeroPaddin  (None, 9, 9, 512)   0           ['conv5_block3_1_prelu[0][0]']   \n",
            " g2D)                                                                                             \n",
            "                                                                                                  \n",
            " conv5_block3_2_conv (Conv2D)   (None, 7, 7, 512)    2359296     ['conv5_block3_2_pad[0][0]']     \n",
            "                                                                                                  \n",
            " conv5_block3_3_bn (BatchNormal  (None, 7, 7, 512)   2048        ['conv5_block3_2_conv[0][0]']    \n",
            " ization)                                                                                         \n",
            "                                                                                                  \n",
            " conv5_block3_add (Add)         (None, 7, 7, 512)    0           ['conv5_block2_add[0][0]',       \n",
            "                                                                  'conv5_block3_3_bn[0][0]']      \n",
            "                                                                                                  \n",
            " batch_normalization (BatchNorm  (None, 7, 7, 512)   2048        ['conv5_block3_add[0][0]']       \n",
            " alization)                                                                                       \n",
            "                                                                                                  \n",
            " dropout (Dropout)              (None, 7, 7, 512)    0           ['batch_normalization[0][0]']    \n",
            "                                                                                                  \n",
            " flatten (Flatten)              (None, 25088)        0           ['dropout[0][0]']                \n",
            "                                                                                                  \n",
            " dense (Dense)                  (None, 512)          12845568    ['flatten[0][0]']                \n",
            "                                                                                                  \n",
            " embedding (BatchNormalization)  (None, 512)         2048        ['dense[0][0]']                  \n",
            "                                                                                                  \n",
            " l2_normalization (L2Normalizat  (None, 512)         0           ['embedding[0][0]']              \n",
            " ion)                                                                                             \n",
            "                                                                                                  \n",
            " arc_layer (ArcLayer)           (None, 5)            2560        ['l2_normalization[0][0]']       \n",
            "                                                                                                  \n",
            "==================================================================================================\n",
            "Total params: 34,167,744\n",
            "Trainable params: 12,850,176\n",
            "Non-trainable params: 21,317,568\n",
            "__________________________________________________________________________________________________\n"
          ]
        }
      ],
      "source": [
        "final_model.summary()"
      ]
    },
    {
      "cell_type": "code",
      "execution_count": 18,
      "metadata": {
        "colab": {
          "base_uri": "https://localhost:8080/"
        },
        "id": "OzuBLoNg8XFQ",
        "outputId": "b8fa0503-893c-4858-f748-8cb11e9cb56e"
      },
      "outputs": [
        {
          "output_type": "stream",
          "name": "stdout",
          "text": [
            "Epoch 1/10\n",
            "32/32 [==============================] - 16s 137ms/step - loss: 5.7464 - accuracy: 0.9281 - val_loss: 0.4625 - val_accuracy: 1.0000 - lr: 0.0010\n",
            "Epoch 2/10\n",
            "32/32 [==============================] - 3s 88ms/step - loss: 2.0282 - accuracy: 0.9760 - val_loss: 0.0583 - val_accuracy: 1.0000 - lr: 0.0010\n",
            "Epoch 3/10\n",
            "32/32 [==============================] - 3s 88ms/step - loss: 0.8009 - accuracy: 0.9980 - val_loss: 0.0052 - val_accuracy: 1.0000 - lr: 0.0010\n",
            "Epoch 4/10\n",
            "32/32 [==============================] - 3s 88ms/step - loss: 1.0354 - accuracy: 0.9900 - val_loss: 0.0052 - val_accuracy: 1.0000 - lr: 0.0010\n",
            "Epoch 5/10\n",
            "32/32 [==============================] - 3s 98ms/step - loss: 0.9240 - accuracy: 0.9940 - val_loss: 0.0568 - val_accuracy: 1.0000 - lr: 0.0010\n",
            "Epoch 6/10\n",
            "32/32 [==============================] - ETA: 0s - loss: 0.5777 - accuracy: 0.9940\n",
            "Epoch 6: ReduceLROnPlateau reducing learning rate to 0.0005000000237487257.\n",
            "32/32 [==============================] - 3s 89ms/step - loss: 0.5777 - accuracy: 0.9940 - val_loss: 0.0758 - val_accuracy: 1.0000 - lr: 0.0010\n",
            "Epoch 7/10\n",
            "32/32 [==============================] - 3s 87ms/step - loss: 0.4046 - accuracy: 0.9980 - val_loss: 0.0815 - val_accuracy: 1.0000 - lr: 5.0000e-04\n",
            "Epoch 8/10\n",
            "32/32 [==============================] - 3s 87ms/step - loss: 0.1892 - accuracy: 1.0000 - val_loss: 0.0264 - val_accuracy: 1.0000 - lr: 5.0000e-04\n",
            "Epoch 9/10\n",
            "32/32 [==============================] - ETA: 0s - loss: 0.2569 - accuracy: 0.9980\n",
            "Epoch 9: ReduceLROnPlateau reducing learning rate to 0.0002500000118743628.\n",
            "32/32 [==============================] - 3s 87ms/step - loss: 0.2569 - accuracy: 0.9980 - val_loss: 0.0347 - val_accuracy: 1.0000 - lr: 5.0000e-04\n",
            "Epoch 10/10\n",
            "32/32 [==============================] - 3s 88ms/step - loss: 0.5082 - accuracy: 0.9940 - val_loss: 0.0320 - val_accuracy: 1.0000 - lr: 2.5000e-04\n"
          ]
        }
      ],
      "source": [
        "from keras.callbacks import ModelCheckpoint, ReduceLROnPlateau, EarlyStopping\n",
        "from keras import optimizers\n",
        "from keras.optimizers import adam_v2\n",
        "\n",
        "cce = keras.losses.categorical_crossentropy\n",
        "final_model.compile(optimizer='adam',loss=ArcLoss(),metrics=['accuracy'])\n",
        "rlrp = ReduceLROnPlateau(monitor='val_loss', factor=0.5, verbose=1, patience=3, min_lr=0.0000001)\n",
        "\n",
        "epochs = 10\n",
        "history = final_model.fit(train_data, epochs=epochs, validation_data=val_data, callbacks=[rlrp])"
      ]
    },
    {
      "cell_type": "code",
      "execution_count": 19,
      "metadata": {
        "id": "XXqjtJ-9_xsz",
        "colab": {
          "base_uri": "https://localhost:8080/"
        },
        "outputId": "8fde18bb-a2de-41c3-b83c-58cc75789c21"
      },
      "outputs": [
        {
          "output_type": "execute_result",
          "data": {
            "text/plain": [
              "164"
            ]
          },
          "metadata": {},
          "execution_count": 19
        }
      ],
      "source": [
        "len(final_model.layers)"
      ]
    },
    {
      "cell_type": "code",
      "execution_count": 20,
      "metadata": {
        "id": "QZ1Cc5qL6w2a"
      },
      "outputs": [],
      "source": [
        "#final_model.summary()"
      ]
    },
    {
      "cell_type": "code",
      "execution_count": 21,
      "metadata": {
        "id": "YLis98EW3yoL",
        "colab": {
          "base_uri": "https://localhost:8080/"
        },
        "outputId": "93c99a15-b24a-4a3f-fe6c-233b0b0b422a"
      },
      "outputs": [
        {
          "output_type": "execute_result",
          "data": {
            "text/plain": [
              "162"
            ]
          },
          "metadata": {},
          "execution_count": 21
        }
      ],
      "source": [
        "# Removing L2Normalization and ArcLayer layers\n",
        "final_model1 = keras.models.Model(inputs = final_model.input, outputs = final_model.layers[-3].output)\n",
        "len(final_model1.layers)"
      ]
    },
    {
      "cell_type": "code",
      "execution_count": 22,
      "metadata": {
        "id": "WDgt0AsDCqa2"
      },
      "outputs": [],
      "source": [
        "for layer in final_model1.layers:\n",
        "  layer.trainable = True\n",
        "final_model1.save_weights(\"arcface_weights_new.h5\")"
      ]
    },
    {
      "cell_type": "code",
      "execution_count": 23,
      "metadata": {
        "id": "kc1IET2FHM7Y"
      },
      "outputs": [],
      "source": [
        "new_model = loadModel(load_here=False)\n",
        "new_model.load_weights(\"/content/arcface_weights_new.h5\")\n",
        "arcf_model = loadModel()"
      ]
    },
    {
      "cell_type": "code",
      "execution_count": 24,
      "metadata": {
        "colab": {
          "base_uri": "https://localhost:8080/"
        },
        "id": "zv866esU7sg6",
        "outputId": "a2ff8b76-4d87-41b5-aaf3-f6a97a02d269"
      },
      "outputs": [
        {
          "output_type": "execute_result",
          "data": {
            "text/plain": [
              "(162, 162)"
            ]
          },
          "metadata": {},
          "execution_count": 24
        }
      ],
      "source": [
        "len(new_model.layers), len(arcf_model.layers)"
      ]
    },
    {
      "cell_type": "markdown",
      "source": [
        "## Testing one one example"
      ],
      "metadata": {
        "id": "2r83G987r4Jq"
      }
    },
    {
      "cell_type": "code",
      "execution_count": 25,
      "metadata": {
        "colab": {
          "base_uri": "https://localhost:8080/"
        },
        "id": "iTU8DcRrJ1lx",
        "outputId": "3a936da8-ffa0-41af-8773-0c06554b86bf"
      },
      "outputs": [
        {
          "output_type": "execute_result",
          "data": {
            "text/plain": [
              "TensorShape([1, 112, 112, 3])"
            ]
          },
          "metadata": {},
          "execution_count": 25
        }
      ],
      "source": [
        "img0 = io.imread(\"0.jpg\")\n",
        "img0 = resize(img0, (112,112,3))\n",
        "img0 = tf.expand_dims(img0, 0)\n",
        "img0.shape"
      ]
    },
    {
      "cell_type": "code",
      "execution_count": 26,
      "metadata": {
        "id": "RUF451QeJ1iZ"
      },
      "outputs": [],
      "source": [
        "img0_pred = new_model(img0)\n",
        "img0_pred1 = arcf_model(img0)"
      ]
    },
    {
      "cell_type": "code",
      "execution_count": 27,
      "metadata": {
        "colab": {
          "base_uri": "https://localhost:8080/"
        },
        "id": "hXsf4xVjJ1fk",
        "outputId": "86147a74-67b6-4109-d709-78456530d778"
      },
      "outputs": [
        {
          "output_type": "execute_result",
          "data": {
            "text/plain": [
              "(-0.009738628, 0.21450017)"
            ]
          },
          "metadata": {},
          "execution_count": 27
        }
      ],
      "source": [
        "img0_pred.numpy().mean(),img0_pred.numpy().std() "
      ]
    },
    {
      "cell_type": "code",
      "execution_count": 28,
      "metadata": {
        "colab": {
          "base_uri": "https://localhost:8080/"
        },
        "id": "UiaZfHWwQBWr",
        "outputId": "64f1af04-16f1-47a1-c7ac-02bb1dce3c65"
      },
      "outputs": [
        {
          "output_type": "execute_result",
          "data": {
            "text/plain": [
              "(-0.018019304, 0.33662766)"
            ]
          },
          "metadata": {},
          "execution_count": 28
        }
      ],
      "source": [
        "img0_pred1.numpy().mean(),img0_pred1.numpy().std()"
      ]
    },
    {
      "cell_type": "markdown",
      "source": [
        "## Final Testing"
      ],
      "metadata": {
        "id": "CRzVuti3wx2V"
      }
    },
    {
      "cell_type": "code",
      "source": [
        "from deepface import DeepFace"
      ],
      "metadata": {
        "id": "oKC46deWo6Uc"
      },
      "execution_count": 32,
      "outputs": []
    },
    {
      "cell_type": "code",
      "source": [
        "pair_verify(\"0.jpg\",\"3.jpg\", \n",
        "            selected_model=new_model, \n",
        "            detector_backend = \"dlib\",\n",
        "            enforce_detection = False,\n",
        "            distance_metric = \"euclidean_l2\")"
      ],
      "metadata": {
        "colab": {
          "base_uri": "https://localhost:8080/"
        },
        "id": "Q87yL_cvz9jN",
        "outputId": "a7d0f79a-00d1-4dc1-9c5f-6349fab2dbc5"
      },
      "execution_count": 34,
      "outputs": [
        {
          "output_type": "execute_result",
          "data": {
            "text/plain": [
              "{'verified': True,\n",
              " 'distance': 0.7656121,\n",
              " 'threshold': 1.13,\n",
              " 'model': 'ArcFace',\n",
              " 'detector_backend': 'dlib',\n",
              " 'similarity_metric': 'euclidean_l2',\n",
              " 'time': 0.24}"
            ]
          },
          "metadata": {},
          "execution_count": 34
        }
      ]
    },
    {
      "cell_type": "code",
      "source": [
        "DeepFace.verify(img1_path = \"0.jpg\", \n",
        "                img2_path = \"3.jpg\", \n",
        "                model_name = \"ArcFace\", distance_metric = \"euclidean_l2\", \n",
        "                detector_backend = \"dlib\",\n",
        "                enforce_detection = False\n",
        ")"
      ],
      "metadata": {
        "colab": {
          "base_uri": "https://localhost:8080/"
        },
        "id": "bh2M-B820kVt",
        "outputId": "d5b5584a-eab2-4070-ef90-6dd2e0e51d05"
      },
      "execution_count": 35,
      "outputs": [
        {
          "output_type": "execute_result",
          "data": {
            "text/plain": [
              "{'verified': True,\n",
              " 'distance': 1.006535435351871,\n",
              " 'threshold': 1.13,\n",
              " 'model': 'ArcFace',\n",
              " 'detector_backend': 'dlib',\n",
              " 'similarity_metric': 'euclidean_l2',\n",
              " 'facial_areas': {'img1': {'x': 76, 'y': 86, 'w': 89, 'h': 90},\n",
              "  'img2': {'x': 67, 'y': 80, 'w': 108, 'h': 107}},\n",
              " 'time': 0.19}"
            ]
          },
          "metadata": {},
          "execution_count": 35
        }
      ]
    },
    {
      "cell_type": "markdown",
      "source": [
        "Result: Fine-tuned model result shows that the images are closer."
      ],
      "metadata": {
        "id": "5gTDgxP9pFb3"
      }
    },
    {
      "cell_type": "code",
      "source": [],
      "metadata": {
        "id": "kqEWMEOLyCGe"
      },
      "execution_count": null,
      "outputs": []
    }
  ],
  "metadata": {
    "accelerator": "GPU",
    "colab": {
      "provenance": [],
      "collapsed_sections": [
        "-67ItWbsrOkP",
        "0-AOfSv4slUi",
        "agdQ9SY-aS_1",
        "u5WvVAnJxR2R",
        "2r83G987r4Jq"
      ]
    },
    "gpuClass": "standard",
    "kernelspec": {
      "display_name": "Python 3",
      "name": "python3"
    },
    "language_info": {
      "name": "python"
    }
  },
  "nbformat": 4,
  "nbformat_minor": 0
}